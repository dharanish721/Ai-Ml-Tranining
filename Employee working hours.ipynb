{
 "cells": [
  {
   "cell_type": "code",
   "execution_count": 1,
   "id": "f893d16a-faca-4eff-83e2-249d5ece17d5",
   "metadata": {},
   "outputs": [],
   "source": [
    "import pandas as pd"
   ]
  },
  {
   "cell_type": "code",
   "execution_count": 2,
   "id": "8b38b430-b929-4fa0-b0da-1e20e18c3cd1",
   "metadata": {},
   "outputs": [],
   "source": [
    "import numpy as np"
   ]
  },
  {
   "cell_type": "code",
   "execution_count": 3,
   "id": "07f2336a-94ff-42a1-b79d-9f4ecec12e39",
   "metadata": {},
   "outputs": [],
   "source": [
    "import matplotlib .pyplot as  plt"
   ]
  },
  {
   "cell_type": "code",
   "execution_count": 4,
   "id": "6e0c6176-76ee-476c-8108-9f03f31d7955",
   "metadata": {},
   "outputs": [],
   "source": [
    "import seaborn as sns"
   ]
  },
  {
   "cell_type": "code",
   "execution_count": 5,
   "id": "637802eb-934a-4e91-b9f1-41b6f13973f3",
   "metadata": {},
   "outputs": [],
   "source": [
    "%matplotlib inline"
   ]
  },
  {
   "cell_type": "code",
   "execution_count": 7,
   "id": "abedf229-b7dd-4bb4-9325-0d0d9a1da17e",
   "metadata": {},
   "outputs": [],
   "source": [
    "np.random.seed(42)"
   ]
  },
  {
   "cell_type": "code",
   "execution_count": 15,
   "id": "ed703577-5786-4730-a200-e91a15f20aa6",
   "metadata": {},
   "outputs": [],
   "source": [
    "employee_ids = [f\"E{str(i).zfill(3)}\" for i in range(1, 31)]\n"
   ]
  },
  {
   "cell_type": "code",
   "execution_count": 16,
   "id": "06557379-7eed-469b-8b3f-ad67f24dce2f",
   "metadata": {},
   "outputs": [],
   "source": [
    "dates=pd.date_range(start=\"2025-06-01\",periods=30)"
   ]
  },
  {
   "cell_type": "code",
   "execution_count": 17,
   "id": "f1a5023b-f5fd-4ce7-aa1b-3ac106bb8b0f",
   "metadata": {},
   "outputs": [],
   "source": [
    "data = []\n",
    "for emp in employee_ids:\n",
    "    for date in dates:\n",
    "        hours = np.round(np.random.uniform(4, 10), 2)  # 4 to 10 hours\n",
    "        data.append([emp, date, hours])\n",
    "\n"
   ]
  },
  {
   "cell_type": "code",
   "execution_count": 18,
   "id": "fb051b02-4db1-4a7c-bf7c-14121363b64a",
   "metadata": {},
   "outputs": [],
   "source": [
    "df=pd.DataFrame(data,columns=[\"EmployeeID\",\"Date\",\"Working Hours\"])"
   ]
  },
  {
   "cell_type": "code",
   "execution_count": 19,
   "id": "8f59fe4d-ea8e-48e0-a62a-52f5a68d9cc7",
   "metadata": {},
   "outputs": [
    {
     "name": "stdout",
     "output_type": "stream",
     "text": [
      "Head of the dataset\n"
     ]
    },
    {
     "data": {
      "text/html": [
       "<div>\n",
       "<style scoped>\n",
       "    .dataframe tbody tr th:only-of-type {\n",
       "        vertical-align: middle;\n",
       "    }\n",
       "\n",
       "    .dataframe tbody tr th {\n",
       "        vertical-align: top;\n",
       "    }\n",
       "\n",
       "    .dataframe thead th {\n",
       "        text-align: right;\n",
       "    }\n",
       "</style>\n",
       "<table border=\"1\" class=\"dataframe\">\n",
       "  <thead>\n",
       "    <tr style=\"text-align: right;\">\n",
       "      <th></th>\n",
       "      <th>EmployeeID</th>\n",
       "      <th>Date</th>\n",
       "      <th>Working Hours</th>\n",
       "    </tr>\n",
       "  </thead>\n",
       "  <tbody>\n",
       "    <tr>\n",
       "      <th>0</th>\n",
       "      <td>E001</td>\n",
       "      <td>2025-06-01</td>\n",
       "      <td>6.25</td>\n",
       "    </tr>\n",
       "    <tr>\n",
       "      <th>1</th>\n",
       "      <td>E001</td>\n",
       "      <td>2025-06-02</td>\n",
       "      <td>9.70</td>\n",
       "    </tr>\n",
       "    <tr>\n",
       "      <th>2</th>\n",
       "      <td>E001</td>\n",
       "      <td>2025-06-03</td>\n",
       "      <td>8.39</td>\n",
       "    </tr>\n",
       "    <tr>\n",
       "      <th>3</th>\n",
       "      <td>E001</td>\n",
       "      <td>2025-06-04</td>\n",
       "      <td>7.59</td>\n",
       "    </tr>\n",
       "    <tr>\n",
       "      <th>4</th>\n",
       "      <td>E001</td>\n",
       "      <td>2025-06-05</td>\n",
       "      <td>4.94</td>\n",
       "    </tr>\n",
       "  </tbody>\n",
       "</table>\n",
       "</div>"
      ],
      "text/plain": [
       "  EmployeeID       Date  Working Hours\n",
       "0       E001 2025-06-01           6.25\n",
       "1       E001 2025-06-02           9.70\n",
       "2       E001 2025-06-03           8.39\n",
       "3       E001 2025-06-04           7.59\n",
       "4       E001 2025-06-05           4.94"
      ]
     },
     "metadata": {},
     "output_type": "display_data"
    }
   ],
   "source": [
    "print(\"Head of the dataset\")\n",
    "display(df.head())"
   ]
  },
  {
   "cell_type": "code",
   "execution_count": 21,
   "id": "ecc34402-b2f1-467e-8c77-4b499d5883aa",
   "metadata": {},
   "outputs": [
    {
     "name": "stdout",
     "output_type": "stream",
     "text": [
      "\n",
      "Summary statistics:\n"
     ]
    },
    {
     "data": {
      "text/html": [
       "<div>\n",
       "<style scoped>\n",
       "    .dataframe tbody tr th:only-of-type {\n",
       "        vertical-align: middle;\n",
       "    }\n",
       "\n",
       "    .dataframe tbody tr th {\n",
       "        vertical-align: top;\n",
       "    }\n",
       "\n",
       "    .dataframe thead th {\n",
       "        text-align: right;\n",
       "    }\n",
       "</style>\n",
       "<table border=\"1\" class=\"dataframe\">\n",
       "  <thead>\n",
       "    <tr style=\"text-align: right;\">\n",
       "      <th></th>\n",
       "      <th>Date</th>\n",
       "      <th>Working Hours</th>\n",
       "    </tr>\n",
       "  </thead>\n",
       "  <tbody>\n",
       "    <tr>\n",
       "      <th>count</th>\n",
       "      <td>900</td>\n",
       "      <td>900.000000</td>\n",
       "    </tr>\n",
       "    <tr>\n",
       "      <th>mean</th>\n",
       "      <td>2025-06-15 12:00:00.000000256</td>\n",
       "      <td>6.954233</td>\n",
       "    </tr>\n",
       "    <tr>\n",
       "      <th>min</th>\n",
       "      <td>2025-06-01 00:00:00</td>\n",
       "      <td>4.030000</td>\n",
       "    </tr>\n",
       "    <tr>\n",
       "      <th>25%</th>\n",
       "      <td>2025-06-08 00:00:00</td>\n",
       "      <td>5.387500</td>\n",
       "    </tr>\n",
       "    <tr>\n",
       "      <th>50%</th>\n",
       "      <td>2025-06-15 12:00:00</td>\n",
       "      <td>7.010000</td>\n",
       "    </tr>\n",
       "    <tr>\n",
       "      <th>75%</th>\n",
       "      <td>2025-06-23 00:00:00</td>\n",
       "      <td>8.490000</td>\n",
       "    </tr>\n",
       "    <tr>\n",
       "      <th>max</th>\n",
       "      <td>2025-06-30 00:00:00</td>\n",
       "      <td>10.000000</td>\n",
       "    </tr>\n",
       "    <tr>\n",
       "      <th>std</th>\n",
       "      <td>NaN</td>\n",
       "      <td>1.762088</td>\n",
       "    </tr>\n",
       "  </tbody>\n",
       "</table>\n",
       "</div>"
      ],
      "text/plain": [
       "                                Date  Working Hours\n",
       "count                            900     900.000000\n",
       "mean   2025-06-15 12:00:00.000000256       6.954233\n",
       "min              2025-06-01 00:00:00       4.030000\n",
       "25%              2025-06-08 00:00:00       5.387500\n",
       "50%              2025-06-15 12:00:00       7.010000\n",
       "75%              2025-06-23 00:00:00       8.490000\n",
       "max              2025-06-30 00:00:00      10.000000\n",
       "std                              NaN       1.762088"
      ]
     },
     "metadata": {},
     "output_type": "display_data"
    }
   ],
   "source": [
    "print(\"\\nSummary statistics:\")\n",
    "display(df.describe())"
   ]
  },
  {
   "cell_type": "code",
   "execution_count": 24,
   "id": "20aa0e76-fc21-4d75-a5da-67e7e20f4f19",
   "metadata": {},
   "outputs": [
    {
     "name": "stdout",
     "output_type": "stream",
     "text": [
      "\n",
      "Missing values:\n",
      "EmployeeID       0\n",
      "Date             0\n",
      "Working Hours    0\n",
      "dtype: int64\n"
     ]
    }
   ],
   "source": [
    "print(\"\\nMissing values:\")\n",
    "print(df.isnull().sum())\n"
   ]
  },
  {
   "cell_type": "code",
   "execution_count": 26,
   "id": "1834750a-0dff-4b1d-bb3a-66794c2f2959",
   "metadata": {},
   "outputs": [
    {
     "name": "stdout",
     "output_type": "stream",
     "text": [
      "['EmployeeID', 'Date', 'Working Hours']\n"
     ]
    }
   ],
   "source": [
    "print(df.columns.tolist())"
   ]
  },
  {
   "cell_type": "code",
   "execution_count": 28,
   "id": "c1fd5561-a91b-40c6-8b64-f067d32a3932",
   "metadata": {},
   "outputs": [
    {
     "data": {
      "text/html": [
       "<div>\n",
       "<style scoped>\n",
       "    .dataframe tbody tr th:only-of-type {\n",
       "        vertical-align: middle;\n",
       "    }\n",
       "\n",
       "    .dataframe tbody tr th {\n",
       "        vertical-align: top;\n",
       "    }\n",
       "\n",
       "    .dataframe thead th {\n",
       "        text-align: right;\n",
       "    }\n",
       "</style>\n",
       "<table border=\"1\" class=\"dataframe\">\n",
       "  <thead>\n",
       "    <tr style=\"text-align: right;\">\n",
       "      <th></th>\n",
       "      <th>EmployeeID</th>\n",
       "      <th>TotalHours</th>\n",
       "      <th>AverageHours</th>\n",
       "      <th>MaxHours</th>\n",
       "      <th>MinHours</th>\n",
       "    </tr>\n",
       "  </thead>\n",
       "  <tbody>\n",
       "    <tr>\n",
       "      <th>0</th>\n",
       "      <td>E001</td>\n",
       "      <td>198.96</td>\n",
       "      <td>6.632000</td>\n",
       "      <td>9.82</td>\n",
       "      <td>4.12</td>\n",
       "    </tr>\n",
       "    <tr>\n",
       "      <th>1</th>\n",
       "      <td>E002</td>\n",
       "      <td>209.37</td>\n",
       "      <td>6.979000</td>\n",
       "      <td>9.82</td>\n",
       "      <td>4.21</td>\n",
       "    </tr>\n",
       "    <tr>\n",
       "      <th>2</th>\n",
       "      <td>E003</td>\n",
       "      <td>206.79</td>\n",
       "      <td>6.893000</td>\n",
       "      <td>9.92</td>\n",
       "      <td>4.03</td>\n",
       "    </tr>\n",
       "    <tr>\n",
       "      <th>3</th>\n",
       "      <td>E004</td>\n",
       "      <td>208.46</td>\n",
       "      <td>6.948667</td>\n",
       "      <td>9.58</td>\n",
       "      <td>4.15</td>\n",
       "    </tr>\n",
       "    <tr>\n",
       "      <th>4</th>\n",
       "      <td>E005</td>\n",
       "      <td>202.07</td>\n",
       "      <td>6.735667</td>\n",
       "      <td>9.83</td>\n",
       "      <td>4.04</td>\n",
       "    </tr>\n",
       "    <tr>\n",
       "      <th>5</th>\n",
       "      <td>E006</td>\n",
       "      <td>204.29</td>\n",
       "      <td>6.809667</td>\n",
       "      <td>9.91</td>\n",
       "      <td>4.10</td>\n",
       "    </tr>\n",
       "    <tr>\n",
       "      <th>6</th>\n",
       "      <td>E007</td>\n",
       "      <td>210.91</td>\n",
       "      <td>7.030333</td>\n",
       "      <td>9.55</td>\n",
       "      <td>4.03</td>\n",
       "    </tr>\n",
       "    <tr>\n",
       "      <th>7</th>\n",
       "      <td>E008</td>\n",
       "      <td>210.81</td>\n",
       "      <td>7.027000</td>\n",
       "      <td>9.84</td>\n",
       "      <td>4.15</td>\n",
       "    </tr>\n",
       "    <tr>\n",
       "      <th>8</th>\n",
       "      <td>E009</td>\n",
       "      <td>228.84</td>\n",
       "      <td>7.628000</td>\n",
       "      <td>9.94</td>\n",
       "      <td>4.09</td>\n",
       "    </tr>\n",
       "    <tr>\n",
       "      <th>9</th>\n",
       "      <td>E010</td>\n",
       "      <td>210.88</td>\n",
       "      <td>7.029333</td>\n",
       "      <td>9.48</td>\n",
       "      <td>4.18</td>\n",
       "    </tr>\n",
       "    <tr>\n",
       "      <th>10</th>\n",
       "      <td>E011</td>\n",
       "      <td>210.77</td>\n",
       "      <td>7.025667</td>\n",
       "      <td>9.86</td>\n",
       "      <td>4.15</td>\n",
       "    </tr>\n",
       "    <tr>\n",
       "      <th>11</th>\n",
       "      <td>E012</td>\n",
       "      <td>196.52</td>\n",
       "      <td>6.550667</td>\n",
       "      <td>9.64</td>\n",
       "      <td>4.09</td>\n",
       "    </tr>\n",
       "    <tr>\n",
       "      <th>12</th>\n",
       "      <td>E013</td>\n",
       "      <td>207.72</td>\n",
       "      <td>6.924000</td>\n",
       "      <td>9.77</td>\n",
       "      <td>4.11</td>\n",
       "    </tr>\n",
       "    <tr>\n",
       "      <th>13</th>\n",
       "      <td>E014</td>\n",
       "      <td>224.92</td>\n",
       "      <td>7.497333</td>\n",
       "      <td>9.94</td>\n",
       "      <td>4.07</td>\n",
       "    </tr>\n",
       "    <tr>\n",
       "      <th>14</th>\n",
       "      <td>E015</td>\n",
       "      <td>206.67</td>\n",
       "      <td>6.889000</td>\n",
       "      <td>9.92</td>\n",
       "      <td>4.35</td>\n",
       "    </tr>\n",
       "    <tr>\n",
       "      <th>15</th>\n",
       "      <td>E016</td>\n",
       "      <td>211.56</td>\n",
       "      <td>7.052000</td>\n",
       "      <td>9.96</td>\n",
       "      <td>4.07</td>\n",
       "    </tr>\n",
       "    <tr>\n",
       "      <th>16</th>\n",
       "      <td>E017</td>\n",
       "      <td>225.95</td>\n",
       "      <td>7.531667</td>\n",
       "      <td>9.92</td>\n",
       "      <td>4.27</td>\n",
       "    </tr>\n",
       "    <tr>\n",
       "      <th>17</th>\n",
       "      <td>E018</td>\n",
       "      <td>226.10</td>\n",
       "      <td>7.536667</td>\n",
       "      <td>10.00</td>\n",
       "      <td>4.16</td>\n",
       "    </tr>\n",
       "    <tr>\n",
       "      <th>18</th>\n",
       "      <td>E019</td>\n",
       "      <td>209.42</td>\n",
       "      <td>6.980667</td>\n",
       "      <td>9.72</td>\n",
       "      <td>4.09</td>\n",
       "    </tr>\n",
       "    <tr>\n",
       "      <th>19</th>\n",
       "      <td>E020</td>\n",
       "      <td>199.91</td>\n",
       "      <td>6.663667</td>\n",
       "      <td>9.88</td>\n",
       "      <td>4.25</td>\n",
       "    </tr>\n",
       "    <tr>\n",
       "      <th>20</th>\n",
       "      <td>E021</td>\n",
       "      <td>192.18</td>\n",
       "      <td>6.406000</td>\n",
       "      <td>9.53</td>\n",
       "      <td>4.22</td>\n",
       "    </tr>\n",
       "    <tr>\n",
       "      <th>21</th>\n",
       "      <td>E022</td>\n",
       "      <td>200.73</td>\n",
       "      <td>6.691000</td>\n",
       "      <td>9.37</td>\n",
       "      <td>4.12</td>\n",
       "    </tr>\n",
       "    <tr>\n",
       "      <th>22</th>\n",
       "      <td>E023</td>\n",
       "      <td>203.64</td>\n",
       "      <td>6.788000</td>\n",
       "      <td>9.92</td>\n",
       "      <td>4.48</td>\n",
       "    </tr>\n",
       "    <tr>\n",
       "      <th>23</th>\n",
       "      <td>E024</td>\n",
       "      <td>204.46</td>\n",
       "      <td>6.815333</td>\n",
       "      <td>9.94</td>\n",
       "      <td>4.31</td>\n",
       "    </tr>\n",
       "    <tr>\n",
       "      <th>24</th>\n",
       "      <td>E025</td>\n",
       "      <td>214.07</td>\n",
       "      <td>7.135667</td>\n",
       "      <td>9.63</td>\n",
       "      <td>4.40</td>\n",
       "    </tr>\n",
       "    <tr>\n",
       "      <th>25</th>\n",
       "      <td>E026</td>\n",
       "      <td>212.33</td>\n",
       "      <td>7.077667</td>\n",
       "      <td>9.64</td>\n",
       "      <td>4.20</td>\n",
       "    </tr>\n",
       "    <tr>\n",
       "      <th>26</th>\n",
       "      <td>E027</td>\n",
       "      <td>220.85</td>\n",
       "      <td>7.361667</td>\n",
       "      <td>9.68</td>\n",
       "      <td>4.11</td>\n",
       "    </tr>\n",
       "    <tr>\n",
       "      <th>27</th>\n",
       "      <td>E028</td>\n",
       "      <td>209.51</td>\n",
       "      <td>6.983667</td>\n",
       "      <td>9.91</td>\n",
       "      <td>4.03</td>\n",
       "    </tr>\n",
       "    <tr>\n",
       "      <th>28</th>\n",
       "      <td>E029</td>\n",
       "      <td>199.89</td>\n",
       "      <td>6.663000</td>\n",
       "      <td>9.98</td>\n",
       "      <td>4.08</td>\n",
       "    </tr>\n",
       "    <tr>\n",
       "      <th>29</th>\n",
       "      <td>E030</td>\n",
       "      <td>190.23</td>\n",
       "      <td>6.341000</td>\n",
       "      <td>9.38</td>\n",
       "      <td>4.08</td>\n",
       "    </tr>\n",
       "  </tbody>\n",
       "</table>\n",
       "</div>"
      ],
      "text/plain": [
       "   EmployeeID  TotalHours  AverageHours  MaxHours  MinHours\n",
       "0        E001      198.96      6.632000      9.82      4.12\n",
       "1        E002      209.37      6.979000      9.82      4.21\n",
       "2        E003      206.79      6.893000      9.92      4.03\n",
       "3        E004      208.46      6.948667      9.58      4.15\n",
       "4        E005      202.07      6.735667      9.83      4.04\n",
       "5        E006      204.29      6.809667      9.91      4.10\n",
       "6        E007      210.91      7.030333      9.55      4.03\n",
       "7        E008      210.81      7.027000      9.84      4.15\n",
       "8        E009      228.84      7.628000      9.94      4.09\n",
       "9        E010      210.88      7.029333      9.48      4.18\n",
       "10       E011      210.77      7.025667      9.86      4.15\n",
       "11       E012      196.52      6.550667      9.64      4.09\n",
       "12       E013      207.72      6.924000      9.77      4.11\n",
       "13       E014      224.92      7.497333      9.94      4.07\n",
       "14       E015      206.67      6.889000      9.92      4.35\n",
       "15       E016      211.56      7.052000      9.96      4.07\n",
       "16       E017      225.95      7.531667      9.92      4.27\n",
       "17       E018      226.10      7.536667     10.00      4.16\n",
       "18       E019      209.42      6.980667      9.72      4.09\n",
       "19       E020      199.91      6.663667      9.88      4.25\n",
       "20       E021      192.18      6.406000      9.53      4.22\n",
       "21       E022      200.73      6.691000      9.37      4.12\n",
       "22       E023      203.64      6.788000      9.92      4.48\n",
       "23       E024      204.46      6.815333      9.94      4.31\n",
       "24       E025      214.07      7.135667      9.63      4.40\n",
       "25       E026      212.33      7.077667      9.64      4.20\n",
       "26       E027      220.85      7.361667      9.68      4.11\n",
       "27       E028      209.51      6.983667      9.91      4.03\n",
       "28       E029      199.89      6.663000      9.98      4.08\n",
       "29       E030      190.23      6.341000      9.38      4.08"
      ]
     },
     "metadata": {},
     "output_type": "display_data"
    }
   ],
   "source": [
    "grouped = df.groupby(\"EmployeeID\")[\"Working Hours\"].agg([\"sum\", \"mean\", \"max\", \"min\"]).reset_index()\n",
    "grouped.columns = [\"EmployeeID\", \"TotalHours\", \"AverageHours\", \"MaxHours\", \"MinHours\"]\n",
    "display(grouped)"
   ]
  },
  {
   "cell_type": "code",
   "execution_count": 29,
   "id": "f58370c1-2c42-417c-ab49-d6b92fba5004",
   "metadata": {},
   "outputs": [],
   "source": [
    "mean_avg=grouped[\"AverageHours\"].mean()"
   ]
  },
  {
   "cell_type": "code",
   "execution_count": 30,
   "id": "4c44c552-08f2-4ec8-aaac-e5fe48a4b53c",
   "metadata": {},
   "outputs": [],
   "source": [
    "std_avg=grouped[\"AverageHours\"].std()"
   ]
  },
  {
   "cell_type": "code",
   "execution_count": 31,
   "id": "d36e817e-e378-4ebf-bc19-bb06121b235d",
   "metadata": {},
   "outputs": [],
   "source": [
    "anomalies = grouped[(grouped[\"AverageHours\"] > mean_avg + 2*std_avg) |\n",
    "                    (grouped[\"AverageHours\"] < mean_avg - 2*std_avg)]\n"
   ]
  },
  {
   "cell_type": "code",
   "execution_count": 32,
   "id": "e36548df-1a5b-45f4-b73c-d7cd2df365b8",
   "metadata": {},
   "outputs": [
    {
     "name": "stdout",
     "output_type": "stream",
     "text": [
      "\n",
      "Anomalous employees based on average working hours:\n"
     ]
    },
    {
     "data": {
      "text/html": [
       "<div>\n",
       "<style scoped>\n",
       "    .dataframe tbody tr th:only-of-type {\n",
       "        vertical-align: middle;\n",
       "    }\n",
       "\n",
       "    .dataframe tbody tr th {\n",
       "        vertical-align: top;\n",
       "    }\n",
       "\n",
       "    .dataframe thead th {\n",
       "        text-align: right;\n",
       "    }\n",
       "</style>\n",
       "<table border=\"1\" class=\"dataframe\">\n",
       "  <thead>\n",
       "    <tr style=\"text-align: right;\">\n",
       "      <th></th>\n",
       "      <th>EmployeeID</th>\n",
       "      <th>TotalHours</th>\n",
       "      <th>AverageHours</th>\n",
       "      <th>MaxHours</th>\n",
       "      <th>MinHours</th>\n",
       "    </tr>\n",
       "  </thead>\n",
       "  <tbody>\n",
       "    <tr>\n",
       "      <th>8</th>\n",
       "      <td>E009</td>\n",
       "      <td>228.84</td>\n",
       "      <td>7.628</td>\n",
       "      <td>9.94</td>\n",
       "      <td>4.09</td>\n",
       "    </tr>\n",
       "  </tbody>\n",
       "</table>\n",
       "</div>"
      ],
      "text/plain": [
       "  EmployeeID  TotalHours  AverageHours  MaxHours  MinHours\n",
       "8       E009      228.84         7.628      9.94      4.09"
      ]
     },
     "metadata": {},
     "output_type": "display_data"
    }
   ],
   "source": [
    "print(\"\\nAnomalous employees based on average working hours:\")\n",
    "display(anomalies)\n",
    "\n"
   ]
  },
  {
   "cell_type": "code",
   "execution_count": 33,
   "id": "dd3c1859-c321-4b3b-92c9-e8084096e6e2",
   "metadata": {},
   "outputs": [
    {
     "name": "stderr",
     "output_type": "stream",
     "text": [
      "C:\\Users\\DHARANISH 7\\AppData\\Local\\Temp\\ipykernel_7692\\2383440368.py:2: FutureWarning: \n",
      "\n",
      "Passing `palette` without assigning `hue` is deprecated and will be removed in v0.14.0. Assign the `x` variable to `hue` and set `legend=False` for the same effect.\n",
      "\n",
      "  sns.barplot(data=grouped, x=\"EmployeeID\", y=\"TotalHours\", palette=\"viridis\")\n"
     ]
    },
    {
     "data": {
      "image/png": "[encoded data removed]",
      "text/plain": [
       "<Figure size 1400x600 with 1 Axes>"
      ]
     },
     "metadata": {},
     "output_type": "display_data"
    }
   ],
   "source": [
    "plt.figure(figsize=(14, 6))\n",
    "sns.barplot(data=grouped, x=\"EmployeeID\", y=\"TotalHours\", palette=\"viridis\")\n",
    "plt.title(\"Total Working Hours per Employee\")\n",
    "plt.xticks(rotation=90)\n",
    "plt.tight_layout()\n",
    "plt.show()\n"
   ]
  },
  {
   "cell_type": "code",
   "execution_count": 34,
   "id": "28c7d9ef-1f78-48ca-b899-e49e22d0072c",
   "metadata": {},
   "outputs": [
    {
     "name": "stderr",
     "output_type": "stream",
     "text": [
      "C:\\Users\\DHARANISH 7\\AppData\\Local\\Temp\\ipykernel_7692\\3481631896.py:2: FutureWarning: \n",
      "\n",
      "Passing `palette` without assigning `hue` is deprecated and will be removed in v0.14.0. Assign the `x` variable to `hue` and set `legend=False` for the same effect.\n",
      "\n",
      "  sns.barplot(data=grouped, x=\"EmployeeID\", y=\"AverageHours\", palette=\"coolwarm\")\n"
     ]
    },
    {
     "data": {
      "image/png": "[encoded data removed]",
      "text/plain": [
       "<Figure size 1400x600 with 1 Axes>"
      ]
     },
     "metadata": {},
     "output_type": "display_data"
    }
   ],
   "source": [
    "plt.figure(figsize=(14, 6))\n",
    "sns.barplot(data=grouped, x=\"EmployeeID\", y=\"AverageHours\", palette=\"coolwarm\")\n",
    "plt.title(\"Average Daily Working Hours per Employee\")\n",
    "plt.xticks(rotation=90)\n",
    "plt.axhline(mean_avg, color='green', linestyle='--', label='Mean Average')\n",
    "plt.axhline(mean_avg + 2*std_avg, color='red', linestyle='--', label='Upper Anomaly Threshold')\n",
    "plt.axhline(mean_avg - 2*std_avg, color='red', linestyle='--', label='Lower Anomaly Threshold')\n",
    "plt.legend()\n",
    "plt.tight_layout()\n",
    "plt.show()\n"
   ]
  },
  {
   "cell_type": "code",
   "execution_count": null,
   "id": "6d2c2199-c49e-441b-8ce9-2f261faa27ce",
   "metadata": {},
   "outputs": [],
   "source": []
  }
 ],
 "metadata": {
  "kernelspec": {
   "display_name": "Python 3 (ipykernel)",
   "language": "python",
   "name": "python3"
  },
  "language_info": {
   "codemirror_mode": {
    "name": "ipython",
    "version": 3
   },
   "file_extension": ".py",
   "mimetype": "text/x-python",
   "name": "python",
   "nbconvert_exporter": "python",
   "pygments_lexer": "ipython3",
   "version": "3.13.5"
  }
 },
 "nbformat": 4,
 "nbformat_minor": 5
}
